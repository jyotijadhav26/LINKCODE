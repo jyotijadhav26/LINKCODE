{
 "cells": [
  {
   "cell_type": "code",
   "execution_count": 3,
   "id": "edc5882a-0789-4342-970d-e38e8623ef9e",
   "metadata": {},
   "outputs": [
    {
     "name": "stdout",
     "output_type": "stream",
     "text": [
      "6\n"
     ]
    }
   ],
   "source": [
    "a=1\n",
    "b=2\n",
    "c=3\n",
    "\n",
    "\n",
    "total = a+b+\\\n",
    "        c\n",
    "print(total)"
   ]
  },
  {
   "cell_type": "code",
   "execution_count": 9,
   "id": "e7210b10-5897-4e49-b6f6-387e3603dc66",
   "metadata": {},
   "outputs": [
    {
     "name": "stdin",
     "output_type": "stream",
     "text": [
      " 2 3\n"
     ]
    }
   ],
   "source": [
    " a,b=map(int,input().split())\n"
   ]
  },
  {
   "cell_type": "code",
   "execution_count": 8,
   "id": "37e6bc15-f25c-414b-96f4-c9aac8feecab",
   "metadata": {},
   "outputs": [
    {
     "name": "stdin",
     "output_type": "stream",
     "text": [
      " 10 20\n"
     ]
    }
   ],
   "source": [
    "m, n = map(int, input().split())"
   ]
  },
  {
   "cell_type": "code",
   "execution_count": null,
   "id": "439547cc-fef3-4ea5-9808-29d07bb444d7",
   "metadata": {},
   "outputs": [],
   "source": []
  },
  {
   "cell_type": "code",
   "execution_count": 13,
   "id": "89c37389-c5f6-4658-b088-79b28deef044",
   "metadata": {},
   "outputs": [
    {
     "name": "stdin",
     "output_type": "stream",
     "text": [
      " 10 20 30 40\n"
     ]
    }
   ],
   "source": [
    "l1=list(map(int,input().split()))"
   ]
  },
  {
   "cell_type": "code",
   "execution_count": 14,
   "id": "46da8df9-0b20-434b-a5ac-05a87aa0d0c8",
   "metadata": {},
   "outputs": [
    {
     "data": {
      "text/plain": [
       "[10, 20, 30, 40]"
      ]
     },
     "execution_count": 14,
     "metadata": {},
     "output_type": "execute_result"
    }
   ],
   "source": [
    "l1"
   ]
  },
  {
   "cell_type": "code",
   "execution_count": null,
   "id": "c13d5f58-621f-48ae-8993-5db344ce42d0",
   "metadata": {},
   "outputs": [],
   "source": []
  },
  {
   "cell_type": "code",
   "execution_count": 14,
   "id": "c1ccf53b-9739-4f54-902c-de2293c8852a",
   "metadata": {},
   "outputs": [
    {
     "name": "stdin",
     "output_type": "stream",
     "text": [
      "enter two numbers:  10 20\n"
     ]
    }
   ],
   "source": [
    "x,y=map(int,input('enter two numbers: ').split())"
   ]
  },
  {
   "cell_type": "code",
   "execution_count": 16,
   "id": "c0cfe490-8f1d-4f65-b8a5-bc9f2eb27479",
   "metadata": {},
   "outputs": [
    {
     "name": "stdin",
     "output_type": "stream",
     "text": [
      "Enter your name:  JYOTI\n",
      "ENter your age :  28\n"
     ]
    },
    {
     "name": "stdout",
     "output_type": "stream",
     "text": [
      "JYOTI 28\n"
     ]
    }
   ],
   "source": [
    "name=input('Enter your name: ')\n",
    "age=int(input('ENter your age : '))\n",
    "print(name,age)"
   ]
  },
  {
   "cell_type": "code",
   "execution_count": 26,
   "id": "1c0dcc06-2e59-400a-96d9-5e61213ae2ff",
   "metadata": {},
   "outputs": [
    {
     "name": "stdin",
     "output_type": "stream",
     "text": [
      "Enter a list1: 1234\n",
      "Enter list2:  5678\n"
     ]
    },
    {
     "name": "stdout",
     "output_type": "stream",
     "text": [
      "['1', '2', '3', '4', '5', '6', '7', '8']\n"
     ]
    }
   ],
   "source": []
  },
  {
   "cell_type": "code",
   "execution_count": 22,
   "id": "0858709a-1c24-4947-9c50-65ddc150b6b8",
   "metadata": {},
   "outputs": [
    {
     "data": {
      "text/plain": [
       "<function print(*args, sep=' ', end='\\n', file=None, flush=False)>"
      ]
     },
     "execution_count": 22,
     "metadata": {},
     "output_type": "execute_result"
    }
   ],
   "source": [
    "print\n"
   ]
  },
  {
   "cell_type": "code",
   "execution_count": null,
   "id": "51dcf54d-c19a-49a3-b1bf-83d607ec0baf",
   "metadata": {},
   "outputs": [],
   "source": []
  },
  {
   "cell_type": "markdown",
   "id": "ee1826ee-dc20-41f1-88f7-b37085af39e5",
   "metadata": {},
   "source": [
    "Exercise 1: Print first 10 natural numbers using while loop\n",
    "Exercise 2: Print the following pattern\n",
    "Exercise 3: Calculate sum of all numbers from 1 to a given number\n",
    "Exercise 4: Print multiplication table of a given number\n",
    "Exercise 5: Display numbers from a list using a loop\n",
    "Exercise 6: Count the total number of digits in a number\n",
    "Exercise 7: Print the following pattern\n",
    "Exercise 8: Print list in reverse order using a loop\n",
    "Exercise 9: Display numbers from -10 to -1 using for loop\n",
    "Exercise 10: Display a message “Done” after the successful execution of the for loop\n",
    "Exercise 11: Print all prime numbers within a range\n",
    "Exercise 12: Display Fibonacci series up to 10 terms\n",
    "Exercise 13: Find the factorial of a given number\n",
    "Exercise 14: Reverse a integer number\n",
    "Exercise 15: Print elements from a given list present at odd index positions\n",
    "Exercise 16: Calculate the cube of all numbers from 1 to a given number\n",
    "Exercise 17: Find the sum of the series up to n terms\n",
    "Exercise 18: Print the following pattern"
   ]
  },
  {
   "cell_type": "markdown",
   "id": "6e7d899a-d8b3-4822-b8f5-7c74e5189d9c",
   "metadata": {},
   "source": [
    "## Exercise 1: Print first 10 natural numbers using while loop\n"
   ]
  },
  {
   "cell_type": "code",
   "execution_count": 27,
   "id": "9cedef1d-76ce-4f58-94d4-9db475408fc8",
   "metadata": {},
   "outputs": [
    {
     "name": "stdout",
     "output_type": "stream",
     "text": [
      "1\n",
      "2\n",
      "3\n",
      "4\n",
      "5\n",
      "6\n",
      "7\n",
      "8\n",
      "9\n",
      "10\n"
     ]
    }
   ],
   "source": [
    "for i in range(1,11):\n",
    "    print(i)"
   ]
  },
  {
   "cell_type": "markdown",
   "id": "0e49604c-7b37-45b5-8c81-e6ccf3bb6834",
   "metadata": {},
   "source": [
    "## Exercise 2: Print the following pattern"
   ]
  },
  {
   "cell_type": "markdown",
   "id": "d1673fa6-6607-4276-bab3-9c075766a5d7",
   "metadata": {},
   "source": [
    "1 \n",
    "1 2 \n",
    "1 2 3 \n",
    "1 2 3 4 \n",
    "1 2 3 4 5\n"
   ]
  },
  {
   "cell_type": "code",
   "execution_count": 38,
   "id": "f4d5b143-8d27-4f6d-9b83-b542c56a24c8",
   "metadata": {},
   "outputs": [
    {
     "name": "stdout",
     "output_type": "stream",
     "text": [
      "1 \n",
      "1 2 \n",
      "1 2 3 \n",
      "1 2 3 4 \n",
      "1 2 3 4 5 \n"
     ]
    }
   ],
   "source": [
    "for i in range(1,6):\n",
    "    for j in range(1,i+1):\n",
    "        print(j, end=' ')\n",
    "    print()\n",
    "        "
   ]
  },
  {
   "cell_type": "code",
   "execution_count": null,
   "id": "8836845b-0c1b-4531-91bb-01f7d43e68e8",
   "metadata": {},
   "outputs": [],
   "source": []
  },
  {
   "cell_type": "markdown",
   "id": "65349ac1-7cf0-417f-bcef-8f598d1f7697",
   "metadata": {},
   "source": [
    "## Exercise 3: Calculate sum of all numbers from 1 to a given number\n"
   ]
  },
  {
   "cell_type": "code",
   "execution_count": 42,
   "id": "b4458fbf-e93a-4e23-9992-48077a0a5875",
   "metadata": {},
   "outputs": [
    {
     "name": "stdin",
     "output_type": "stream",
     "text": [
      "enter a number:  15\n"
     ]
    },
    {
     "name": "stdout",
     "output_type": "stream",
     "text": [
      "sum  is : 120\n"
     ]
    }
   ],
   "source": [
    "n=int(input('enter a number: '))\n",
    "sum=0\n",
    "for i in range(1,n+1):\n",
    "    sum=sum+i\n",
    "print(f\"sum  is : {sum}\")"
   ]
  },
  {
   "cell_type": "markdown",
   "id": "42f8d377-5e39-40a4-9ca0-29c85609117a",
   "metadata": {},
   "source": [
    "## Exercise 4: Print multiplication table of a given number\n"
   ]
  },
  {
   "cell_type": "code",
   "execution_count": 46,
   "id": "09dcaea2-7295-44b5-a949-52017af17ca7",
   "metadata": {},
   "outputs": [
    {
     "name": "stdin",
     "output_type": "stream",
     "text": [
      "enter a number:  5\n"
     ]
    },
    {
     "name": "stdout",
     "output_type": "stream",
     "text": [
      "5 * 1 = 5\n",
      "5 * 2 = 10\n",
      "5 * 3 = 15\n",
      "5 * 4 = 20\n",
      "5 * 5 = 25\n",
      "5 * 6 = 30\n",
      "5 * 7 = 35\n",
      "5 * 8 = 40\n",
      "5 * 9 = 45\n",
      "5 * 10 = 50\n"
     ]
    }
   ],
   "source": [
    "n=int(input('enter a number: '))\n",
    "for i in range(1,11):\n",
    "    print(f\"{n} * {i} = {n*i}\")\n",
    "    "
   ]
  },
  {
   "cell_type": "code",
   "execution_count": null,
   "id": "ac4c041a-6bf9-49e5-a5e5-3cf52fd3e5a2",
   "metadata": {},
   "outputs": [],
   "source": []
  },
  {
   "cell_type": "markdown",
   "id": "75314f8e-8c38-48bb-97f1-f1718884542e",
   "metadata": {},
   "source": [
    "## Exercise 5: Display numbers from a list using a loop"
   ]
  },
  {
   "cell_type": "markdown",
   "id": "271b77ac-3c18-47e8-b86b-c4d30c3bd3db",
   "metadata": {},
   "source": [
    " Write a Python program to display only those numbers from a list that satisfy the following conditions\n",
    "\n",
    "The number must be divisible by five\n",
    "If the number is greater than 150, then skip it and move to the following number\n",
    "If the number is greater than 500, then stop the loop\n",
    "Given:\n",
    "\n",
    "numbers = [12, 75, 150, 180, 145, 525, 50]"
   ]
  },
  {
   "cell_type": "code",
   "execution_count": 54,
   "id": "e11e8fc1-44a4-476b-ac6e-1c29cbc158ec",
   "metadata": {},
   "outputs": [
    {
     "name": "stdout",
     "output_type": "stream",
     "text": [
      "75\n",
      "150\n",
      "145\n"
     ]
    }
   ],
   "source": [
    "numbers = [12, 75, 150, 180, 145, 525, 50]\n",
    "\n",
    "for i in numbers:\n",
    "    if i>500:\n",
    "        break\n",
    "    elif i>150:\n",
    "        continue\n",
    "    elif i%5==0:\n",
    "        print(i)\n",
    "        "
   ]
  },
  {
   "cell_type": "markdown",
   "id": "99f7b479-66f3-42f6-b4ec-e52380512189",
   "metadata": {},
   "source": [
    "## Exercise 6: Count the total number of digits in a number\n"
   ]
  },
  {
   "cell_type": "markdown",
   "id": "f2490566-7426-4911-a392-99a0d6e036b6",
   "metadata": {},
   "source": [
    "Write a Python program to count the total number of digits in a number using a while loop.\n",
    "\n",
    "For example, the number is 75869, so the output should be 5."
   ]
  },
  {
   "cell_type": "code",
   "execution_count": 59,
   "id": "eacd0bc5-1020-46ff-8e1c-15a9cae31de9",
   "metadata": {},
   "outputs": [
    {
     "name": "stdin",
     "output_type": "stream",
     "text": [
      "enter a number :  5151\n"
     ]
    },
    {
     "name": "stdout",
     "output_type": "stream",
     "text": [
      "4\n"
     ]
    }
   ],
   "source": [
    "num=int(input(\"enter a number : \"))\n",
    "cnt=0\n",
    "while num !=0:\n",
    "    num=num//10\n",
    "    cnt+=1\n",
    "print(cnt)"
   ]
  },
  {
   "cell_type": "code",
   "execution_count": 58,
   "id": "24b8b9a4-4dbf-4c65-9bf2-c84df6a54758",
   "metadata": {},
   "outputs": [
    {
     "name": "stdin",
     "output_type": "stream",
     "text": [
      "enter a number :  5151\n"
     ]
    },
    {
     "name": "stdout",
     "output_type": "stream",
     "text": [
      "total number of digits :  4\n"
     ]
    }
   ],
   "source": [
    "num=int(input(\"enter a number : \"))\n",
    "str1=str(num)\n",
    "no_digits = len(str1)\n",
    "print('total number of digits : ',no_digits)"
   ]
  },
  {
   "cell_type": "code",
   "execution_count": null,
   "id": "7772e67d-c849-40c3-a856-f9944823e008",
   "metadata": {},
   "outputs": [],
   "source": []
  },
  {
   "cell_type": "markdown",
   "id": "98b60e8a-c561-491a-a001-46e2ea4cc649",
   "metadata": {},
   "source": [
    "## Exercise 7: Print the following pattern"
   ]
  },
  {
   "cell_type": "markdown",
   "id": "e9dd9903-5968-4bdf-81c4-dbab083d99df",
   "metadata": {},
   "source": [
    "Write a Python program to print the reverse number pattern using a for loop.\n",
    "\n",
    "\n",
    "5 4 3 2 1 \n",
    "4 3 2 1 \n",
    "3 2 1 \n",
    "2 1 \n",
    "1"
   ]
  },
  {
   "cell_type": "code",
   "execution_count": 74,
   "id": "203bae16-f42f-4ca6-9880-f8bba4b2e3f7",
   "metadata": {},
   "outputs": [
    {
     "name": "stdout",
     "output_type": "stream",
     "text": [
      "5 4 3 2 1 \n",
      "4 3 2 1 \n",
      "3 2 1 \n",
      "2 1 \n",
      "1 \n"
     ]
    }
   ],
   "source": [
    "for i in range(5,0,-1):\n",
    "    for j in range(i):\n",
    "        print(i,end=' ')\n",
    "        i=i-1\n",
    "    print()"
   ]
  },
  {
   "cell_type": "code",
   "execution_count": null,
   "id": "ae6145e2-bea2-4674-9f9b-4fb2d017a578",
   "metadata": {},
   "outputs": [],
   "source": []
  },
  {
   "cell_type": "markdown",
   "id": "4d1adf26-6613-44c3-9f36-dea562e3ec9d",
   "metadata": {},
   "source": [
    "## Exercise 8: Print list in reverse order using a loop"
   ]
  },
  {
   "cell_type": "code",
   "execution_count": null,
   "id": "60e2fe7e-8eec-4e63-b226-78e58b50de39",
   "metadata": {},
   "outputs": [],
   "source": []
  },
  {
   "cell_type": "code",
   "execution_count": 96,
   "id": "30a11d04-9d6a-4a8b-a30c-b23a07d21708",
   "metadata": {},
   "outputs": [
    {
     "name": "stdout",
     "output_type": "stream",
     "text": [
      "50\n",
      "40\n",
      "30\n",
      "20\n",
      "10\n"
     ]
    }
   ],
   "source": [
    "list1 = [10, 20, 30, 40, 50]\n",
    "for i in range(len(list1)-1,-1,-1):\n",
    "    print(list1[i])"
   ]
  },
  {
   "cell_type": "code",
   "execution_count": 94,
   "id": "2403e67f-e441-4981-b5e4-b92e5fae4c70",
   "metadata": {},
   "outputs": [
    {
     "name": "stdout",
     "output_type": "stream",
     "text": [
      "50\n",
      "40\n",
      "30\n",
      "20\n",
      "10\n"
     ]
    }
   ],
   "source": [
    "list1 = [10, 20, 30, 40, 50]\n",
    "\n",
    "list2=reversed(list1)\n",
    "for i in list2:\n",
    "    print(i)"
   ]
  },
  {
   "cell_type": "markdown",
   "id": "a712ad06-61f2-4590-96df-efb72c2c524b",
   "metadata": {},
   "source": [
    "## Exercise 9: Display numbers from -10 to -1 using for loop"
   ]
  },
  {
   "cell_type": "code",
   "execution_count": 101,
   "id": "b5c82fb9-dc58-4098-8258-40592385bd31",
   "metadata": {},
   "outputs": [
    {
     "name": "stdout",
     "output_type": "stream",
     "text": [
      "-10\n",
      "-9\n",
      "-8\n",
      "-7\n",
      "-6\n",
      "-5\n",
      "-4\n",
      "-3\n",
      "-2\n",
      "-1\n"
     ]
    }
   ],
   "source": [
    "for i in range(-10,0,1):\n",
    "    print(i)\n"
   ]
  },
  {
   "cell_type": "markdown",
   "id": "32f02eaf-f2bb-416c-9c12-64632bb4f619",
   "metadata": {},
   "source": [
    "## Exercise 10: Display a message “Done” after the successful execution of the for loop\n"
   ]
  },
  {
   "cell_type": "code",
   "execution_count": 104,
   "id": "7c4fe4f2-c8a6-4a36-80cd-6c245fff24d7",
   "metadata": {},
   "outputs": [
    {
     "name": "stdout",
     "output_type": "stream",
     "text": [
      "0\n",
      "1\n",
      "2\n",
      "3\n",
      "4\n",
      "Done !\n"
     ]
    }
   ],
   "source": [
    "for i in range(5):\n",
    "    print(i)\n",
    "print('Done !')\n"
   ]
  },
  {
   "cell_type": "code",
   "execution_count": null,
   "id": "49899645-7501-4302-8829-96d61c2031ef",
   "metadata": {},
   "outputs": [],
   "source": []
  },
  {
   "cell_type": "markdown",
   "id": "860cfdcb-306c-41fd-aa12-8f468d4b2944",
   "metadata": {},
   "source": [
    "## Exercise 11: Print all prime numbers within a range (start = 25 end = 50)"
   ]
  },
  {
   "cell_type": "code",
   "execution_count": 107,
   "id": "f3668bf1-b4cb-4cb2-9bce-2912761e936d",
   "metadata": {},
   "outputs": [
    {
     "name": "stdout",
     "output_type": "stream",
     "text": [
      "5\n",
      "7\n",
      "11\n",
      "13\n",
      "17\n",
      "19\n",
      "23\n",
      "29\n",
      "31\n",
      "37\n",
      "41\n",
      "43\n",
      "47\n"
     ]
    }
   ],
   "source": [
    "\n",
    "for i in range(5,51):\n",
    "    for j in range(2,i):\n",
    "        if i%j==0:\n",
    "            break\n",
    "    else:\n",
    "        print(i)\n",
    "    "
   ]
  },
  {
   "cell_type": "code",
   "execution_count": null,
   "id": "7d39af64-4f9b-437e-b074-8dc880af133e",
   "metadata": {},
   "outputs": [],
   "source": []
  },
  {
   "cell_type": "code",
   "execution_count": 115,
   "id": "775812b3-eee0-4fda-b414-4297a25af6ce",
   "metadata": {},
   "outputs": [
    {
     "name": "stdin",
     "output_type": "stream",
     "text": [
      "enter a number 7\n"
     ]
    },
    {
     "name": "stdout",
     "output_type": "stream",
     "text": [
      "It is prime\n"
     ]
    }
   ],
   "source": [
    "n=int(input('enter a number'))\n",
    "for i in range(2,n):\n",
    "    if n%i==0:\n",
    "        print(\"It is not prime\")\n",
    "        break\n",
    "else:\n",
    "    print(\"It is prime\")"
   ]
  },
  {
   "cell_type": "code",
   "execution_count": null,
   "id": "940e8087-2097-40b4-994b-aad593cb1701",
   "metadata": {},
   "outputs": [],
   "source": []
  },
  {
   "cell_type": "markdown",
   "id": "6b4a3bc4-1ace-467d-9aef-95ab31fc78fe",
   "metadata": {},
   "source": [
    "# PATTERN CODE"
   ]
  },
  {
   "cell_type": "markdown",
   "id": "de40a220-8344-4863-9a08-3daadc857518",
   "metadata": {},
   "source": [
    "Star (Asterisk) Patterns===>\n",
    "1. Right-angled triangle\n",
    "2. Inverted right-angled triangle\n",
    "3. Equilateral triangle (Pyramid)\n",
    "4. Diamond pattern\n",
    "5. Hollow diamond pattern\n",
    "6. Hourglass pattern"
   ]
  },
  {
   "cell_type": "code",
   "execution_count": null,
   "id": "61c9f460-9eee-4a89-9626-0fc723c2ff5e",
   "metadata": {},
   "outputs": [],
   "source": []
  },
  {
   "cell_type": "markdown",
   "id": "ffe2ee80-2e73-45de-888c-8270872f1917",
   "metadata": {},
   "source": [
    "  \n",
    "\n",
    "\n",
    "\n",
    "\n",
    "\n",
    "\n",
    "\n",
    "   \n",
    "\n",
    "\n",
    "\n",
    "\n",
    "\n",
    "\n",
    "\n",
    "    *\n",
    "   * *\n",
    "  *   *\n",
    " *     *\n",
    "*       *\n",
    " *     *\n",
    "  *   *\n",
    "   * *\n",
    "    *\n",
    "\n",
    "\n",
    "\n",
    "*********\n",
    " *******\n",
    "  *****\n",
    "   ***\n",
    "    *\n",
    "   ***\n",
    "  *****\n",
    " *******\n",
    "*********\n"
   ]
  },
  {
   "cell_type": "markdown",
   "id": "f3005911-5717-4d56-a608-6e41cdbb5825",
   "metadata": {},
   "source": [
    "## RIGHT ANGLE TRAINGLE\n"
   ]
  },
  {
   "cell_type": "markdown",
   "id": "e8b9e358-8597-4482-9fdf-1fa1caf9aae1",
   "metadata": {},
   "source": [
    "\n",
    "*\n",
    "**\n",
    "***\n",
    "****\n",
    "***** "
   ]
  },
  {
   "cell_type": "code",
   "execution_count": 120,
   "id": "c91cd49e-7649-4121-81ae-c5e54c743961",
   "metadata": {},
   "outputs": [
    {
     "name": "stdin",
     "output_type": "stream",
     "text": [
      "Enter any number 6\n"
     ]
    },
    {
     "name": "stdout",
     "output_type": "stream",
     "text": [
      "* \n",
      "* * \n",
      "* * * \n",
      "* * * * \n",
      "* * * * * \n",
      "* * * * * * \n"
     ]
    }
   ],
   "source": [
    "n=int(input(\"Enter any number\"))\n",
    "for i in range(1,n+1):\n",
    "    for j in range(1,i+1):\n",
    "        print('*',end=' ')\n",
    "    print()"
   ]
  },
  {
   "cell_type": "markdown",
   "id": "2d7cadab-7f62-4995-a838-5506bbd4ca3c",
   "metadata": {},
   "source": [
    "# INVERTED RIGHT ANGLE TRAINGLE"
   ]
  },
  {
   "cell_type": "markdown",
   "id": "5e7f633f-2bb9-4b3b-a190-27100793808b",
   "metadata": {},
   "source": [
    "*****\n",
    "****\n",
    "***\n",
    "**\n",
    "*"
   ]
  },
  {
   "cell_type": "code",
   "execution_count": null,
   "id": "9fd0641b-b999-4e9e-9b83-77d4dfe92130",
   "metadata": {},
   "outputs": [],
   "source": [
    "n=int(input(\"Enter any number\"))\n",
    "\n",
    "for i in range(n,0,-1):\n",
    "    for j in range(i):\n",
    "        print('*',end=' ')\n",
    "        i=i-1\n",
    "    print()"
   ]
  },
  {
   "cell_type": "code",
   "execution_count": null,
   "id": "e8f3a26d-fb92-414b-b513-58ff464c19cf",
   "metadata": {},
   "outputs": [],
   "source": []
  },
  {
   "cell_type": "markdown",
   "id": "76ef1cdb-1c44-4a1d-8438-b6470add84a5",
   "metadata": {},
   "source": [
    "## EQUILATRAL TRAINGLE PYRAMID"
   ]
  },
  {
   "cell_type": "markdown",
   "id": "175bdab7-f3a5-4652-af27-41d224ff3944",
   "metadata": {},
   "source": [
    "    *\n",
    "   ***\n",
    "  *****\n",
    " *******\n",
    "*********"
   ]
  },
  {
   "cell_type": "code",
   "execution_count": null,
   "id": "34b18abf-ef7c-44bf-a2bf-26a12236e420",
   "metadata": {},
   "outputs": [],
   "source": []
  },
  {
   "cell_type": "code",
   "execution_count": null,
   "id": "93d30c55-f700-4f5a-9778-ada26cea3e73",
   "metadata": {},
   "outputs": [],
   "source": []
  },
  {
   "cell_type": "code",
   "execution_count": 192,
   "id": "32561d6e-431d-45b0-ade6-11e50ee724c2",
   "metadata": {},
   "outputs": [
    {
     "name": "stdin",
     "output_type": "stream",
     "text": [
      "Enter no of rows :  5\n"
     ]
    },
    {
     "name": "stdout",
     "output_type": "stream",
     "text": [
      "          * \n",
      "        * * * \n",
      "      * * * * * \n",
      "    * * * * * * * \n",
      "  * * * * * * * * * \n"
     ]
    }
   ],
   "source": [
    "n=int(input(\"Enter no of rows : \"))\n",
    "for i in range(n):\n",
    "    for k in range(n-i):\n",
    "        print('  ',end='')\n",
    "\n",
    "    for j in range(2*i+1):\n",
    "        print('*',end=' ')\n",
    "    print()"
   ]
  },
  {
   "cell_type": "code",
   "execution_count": null,
   "id": "28a4399c-1c80-452a-99ea-5f0d5b10bce8",
   "metadata": {},
   "outputs": [],
   "source": []
  },
  {
   "cell_type": "markdown",
   "id": "35120e7a-a442-421f-91a0-abf91dff3cfc",
   "metadata": {},
   "source": [
    "# Diamond Pattern"
   ]
  },
  {
   "cell_type": "markdown",
   "id": "46162ad5-e065-4fa9-857b-deab93674ca8",
   "metadata": {},
   "source": [
    "    *\n",
    "   ***\n",
    "  *****\n",
    " *******\n",
    "*********\n",
    " *******\n",
    "  *****\n",
    "   ***\n",
    "    *"
   ]
  },
  {
   "cell_type": "code",
   "execution_count": 243,
   "id": "0c92ada8-1722-4245-bd75-447fcccbae30",
   "metadata": {},
   "outputs": [
    {
     "name": "stdin",
     "output_type": "stream",
     "text": [
      "Enter no of rows:  5\n"
     ]
    },
    {
     "name": "stdout",
     "output_type": "stream",
     "text": [
      "     *\n",
      "    ***\n",
      "   *****\n",
      "  *******\n",
      " *********\n",
      "*********\n",
      " *******\n",
      "  *****\n",
      "   ***\n",
      "    *\n"
     ]
    }
   ],
   "source": [
    "n=int(input(\"Enter no of rows: \"))\n",
    "# For Upper pyramid:\n",
    "for i in range(n):\n",
    "\n",
    "    for k in range(n-i):\n",
    "        print(' ',end='')\n",
    "\n",
    "    for j in range(2*i+1):\n",
    "        print('*',end='')\n",
    "\n",
    "    print()\n",
    "\n",
    "for i in range(n,0,-1):\n",
    "\n",
    "    for k in range(n-i):\n",
    "        print(' ',end='')\n",
    "\n",
    "    for j in range(2*i-1):\n",
    "        print('*',end='')\n",
    "\n",
    "    print()\n",
    "    "
   ]
  },
  {
   "cell_type": "code",
   "execution_count": null,
   "id": "9a62829b-8a90-402a-bd9f-88fe082331da",
   "metadata": {},
   "outputs": [],
   "source": []
  },
  {
   "cell_type": "code",
   "execution_count": 355,
   "id": "9c4a846f-711b-46f0-916f-be13662e9456",
   "metadata": {},
   "outputs": [
    {
     "name": "stdin",
     "output_type": "stream",
     "text": [
      "Enter no of rows:  5\n"
     ]
    },
    {
     "name": "stdout",
     "output_type": "stream",
     "text": [
      "1 \n",
      "2 2 \n",
      "3 3 3 \n",
      "4 4 4 4 \n",
      "5 5 5 5 5 \n"
     ]
    }
   ],
   "source": [
    "n=int(input(\"Enter no of rows: \"))\n",
    "\n",
    "for i in range(1,n+1):\n",
    "    for j in range(i):\n",
    "        print(i,end=' ')\n",
    "\n",
    "    print()"
   ]
  },
  {
   "cell_type": "code",
   "execution_count": 363,
   "id": "a21983d8-3261-4b95-b6d1-dc3b7356f042",
   "metadata": {},
   "outputs": [
    {
     "name": "stdin",
     "output_type": "stream",
     "text": [
      "Enter no of rows:  5\n"
     ]
    },
    {
     "name": "stdout",
     "output_type": "stream",
     "text": [
      "1 \n",
      "2 3 \n",
      "4 5 6 \n",
      "7 8 9 10 \n",
      "11 12 13 14 15 \n"
     ]
    }
   ],
   "source": [
    "n=int(input(\"Enter no of rows: \"))\n",
    "cnt=1\n",
    "\n",
    "for i in range(1,n+1): \n",
    "    \n",
    "    for j in range(i):\n",
    "        print(cnt,end=' ')\n",
    "        # print('++' ,end=' ')\n",
    "        cnt+=1\n",
    "    \n",
    "    print()"
   ]
  },
  {
   "cell_type": "code",
   "execution_count": null,
   "id": "d9377c07-2fed-4792-ac1f-e2e32c9df04e",
   "metadata": {},
   "outputs": [],
   "source": []
  },
  {
   "cell_type": "code",
   "execution_count": 366,
   "id": "4ed14ef6-8ca4-423e-bfcf-9d5da0c9dd4c",
   "metadata": {},
   "outputs": [
    {
     "name": "stdin",
     "output_type": "stream",
     "text": [
      "Enter no of rows:  5\n"
     ]
    },
    {
     "name": "stdout",
     "output_type": "stream",
     "text": [
      "* \n",
      "* * \n",
      "* * * \n",
      "* * * * \n",
      "* * * * * \n"
     ]
    }
   ],
   "source": [
    "n=int(input(\"Enter no of rows: \"))\n",
    "\n",
    "for i in range(n):\n",
    "    for j in range(i+1):\n",
    "        print('*', end=' ')\n",
    "    print()"
   ]
  },
  {
   "cell_type": "code",
   "execution_count": 367,
   "id": "89ed9dcf-32fe-43a5-833e-1a697b1f2531",
   "metadata": {},
   "outputs": [
    {
     "name": "stdout",
     "output_type": "stream",
     "text": [
      "[6, 8, 10]\n",
      "[5, 7, 1, 9]\n"
     ]
    }
   ],
   "source": [
    "li=[5,6,7,8,1,9,10]\n",
    "even_li=[x for x in li if x%2==0]\n",
    "odd_li=[y for y in li if y%2!=0]\n",
    "print(even_li)\n",
    "print(odd_li)"
   ]
  },
  {
   "cell_type": "code",
   "execution_count": null,
   "id": "87db0356-b511-471e-9158-4ecf1f489af7",
   "metadata": {},
   "outputs": [],
   "source": []
  },
  {
   "cell_type": "code",
   "execution_count": 399,
   "id": "24fc886d-7ddd-457a-8c83-24b7cb5c5514",
   "metadata": {},
   "outputs": [
    {
     "name": "stdin",
     "output_type": "stream",
     "text": [
      "enter a list:  10,12,54,7,98,68,25,34,12\n"
     ]
    },
    {
     "name": "stdout",
     "output_type": "stream",
     "text": [
      "[10, 12, 54, 7, 98, 68, 25, 34, 12]\n",
      "Greatest number in the list :  98\n",
      "smallest number in the list :  7\n",
      "Greatest number in the list :  98\n"
     ]
    }
   ],
   "source": [
    "li=list(map(int,input(\"enter a list: \").split(',')))   \n",
    "print(li)\n",
    "\n",
    "\n",
    "# we can sort the list to find greatest and smallest.\n",
    "\n",
    "li.sort()\n",
    "print(\"Greatest number in the list : \",li[-1])\n",
    "print(\"smallest number in the list : \",li[0])\n",
    "print(\"Greatest number in the list : \",li[len(li)-1])\n"
   ]
  },
  {
   "cell_type": "code",
   "execution_count": null,
   "id": "6ef47e9c-2f16-431e-8325-6f4186285174",
   "metadata": {},
   "outputs": [],
   "source": []
  },
  {
   "cell_type": "code",
   "execution_count": null,
   "id": "7ff82f38-1230-4d54-86f7-7ccb9fa6bd9a",
   "metadata": {},
   "outputs": [],
   "source": []
  },
  {
   "cell_type": "code",
   "execution_count": null,
   "id": "e0bd5345-26fb-4896-b78f-741900c4a036",
   "metadata": {},
   "outputs": [],
   "source": []
  },
  {
   "cell_type": "code",
   "execution_count": null,
   "id": "8e108bc5-7393-448e-8ce0-b21230ec5479",
   "metadata": {},
   "outputs": [],
   "source": []
  }
 ],
 "metadata": {
  "kernelspec": {
   "display_name": "Python 3 (ipykernel)",
   "language": "python",
   "name": "python3"
  },
  "language_info": {
   "codemirror_mode": {
    "name": "ipython",
    "version": 3
   },
   "file_extension": ".py",
   "mimetype": "text/x-python",
   "name": "python",
   "nbconvert_exporter": "python",
   "pygments_lexer": "ipython3",
   "version": "3.11.4"
  }
 },
 "nbformat": 4,
 "nbformat_minor": 5
}
